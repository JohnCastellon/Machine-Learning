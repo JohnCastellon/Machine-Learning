{
 "cells": [
  {
   "cell_type": "code",
   "execution_count": 1,
   "metadata": {},
   "outputs": [],
   "source": [
    "import numpy as np\n",
    "import pandas as pd\n",
    "import matplotlib.pyplot as plt\n",
    "import seaborn as sns\n",
    "from nltk import TweetTokenizer\n",
    "from sklearn import linear_model, svm\n",
    "from sklearn.metrics import recall_score, precision_score, f1_score,accuracy_score,confusion_matrix\n",
    "from sklearn.model_selection import train_test_split    \n",
    "from sklearn.feature_extraction.text import CountVectorizer\n",
    "from sklearn.pipeline import FeatureUnion\n",
    "from collections import Counter\n",
    "from imblearn.over_sampling import RandomOverSampler, SMOTE"
   ]
  },
  {
   "cell_type": "markdown",
   "metadata": {},
   "source": [
    "# Data set"
   ]
  },
  {
   "cell_type": "code",
   "execution_count": 2,
   "metadata": {},
   "outputs": [
    {
     "data": {
      "text/html": [
       "<div>\n",
       "<style scoped>\n",
       "    .dataframe tbody tr th:only-of-type {\n",
       "        vertical-align: middle;\n",
       "    }\n",
       "\n",
       "    .dataframe tbody tr th {\n",
       "        vertical-align: top;\n",
       "    }\n",
       "\n",
       "    .dataframe thead th {\n",
       "        text-align: right;\n",
       "    }\n",
       "</style>\n",
       "<table border=\"1\" class=\"dataframe\">\n",
       "  <thead>\n",
       "    <tr style=\"text-align: right;\">\n",
       "      <th></th>\n",
       "      <th>cuenta</th>\n",
       "      <th>partido</th>\n",
       "      <th>timestamp</th>\n",
       "      <th>tweet</th>\n",
       "    </tr>\n",
       "  </thead>\n",
       "  <tbody>\n",
       "    <tr>\n",
       "      <th>0</th>\n",
       "      <td>a34133350b0605cb24081843f63176ca</td>\n",
       "      <td>psoe</td>\n",
       "      <td>13639734920</td>\n",
       "      <td>@vesteve3 @manubenas @ccoo_rm @desobediencia_ ...</td>\n",
       "    </tr>\n",
       "    <tr>\n",
       "      <th>1</th>\n",
       "      <td>a34133350b0605cb24081843f63176ca</td>\n",
       "      <td>psoe</td>\n",
       "      <td>13640610350</td>\n",
       "      <td>“@kirovast: @Hugo_Moran muy fan de la \"radical...</td>\n",
       "    </tr>\n",
       "    <tr>\n",
       "      <th>2</th>\n",
       "      <td>a34133350b0605cb24081843f63176ca</td>\n",
       "      <td>psoe</td>\n",
       "      <td>13641168040</td>\n",
       "      <td>@ALTAS_PRESIONES Nuevos dueños para las renova...</td>\n",
       "    </tr>\n",
       "    <tr>\n",
       "      <th>3</th>\n",
       "      <td>a34133350b0605cb24081843f63176ca</td>\n",
       "      <td>psoe</td>\n",
       "      <td>13641209670</td>\n",
       "      <td>@jumanjisolar @solartradex @josea_dolera El di...</td>\n",
       "    </tr>\n",
       "    <tr>\n",
       "      <th>4</th>\n",
       "      <td>a34133350b0605cb24081843f63176ca</td>\n",
       "      <td>psoe</td>\n",
       "      <td>13641526920</td>\n",
       "      <td>“@cesarnayu: https://t.co/J4OTXj1x7w … Por fav...</td>\n",
       "    </tr>\n",
       "    <tr>\n",
       "      <th>5</th>\n",
       "      <td>a34133350b0605cb24081843f63176ca</td>\n",
       "      <td>psoe</td>\n",
       "      <td>13641538760</td>\n",
       "      <td>“@iAgua: http://t.co/6yMSNcV1UA” (El Gobierno ...</td>\n",
       "    </tr>\n",
       "    <tr>\n",
       "      <th>6</th>\n",
       "      <td>a34133350b0605cb24081843f63176ca</td>\n",
       "      <td>psoe</td>\n",
       "      <td>13641548230</td>\n",
       "      <td>\"Cospedal: las crisis ya no afectan a España. ...</td>\n",
       "    </tr>\n",
       "    <tr>\n",
       "      <th>7</th>\n",
       "      <td>a34133350b0605cb24081843f63176ca</td>\n",
       "      <td>psoe</td>\n",
       "      <td>13642018620</td>\n",
       "      <td>“@ventonoso: España importa ya energía de Port...</td>\n",
       "    </tr>\n",
       "    <tr>\n",
       "      <th>8</th>\n",
       "      <td>a34133350b0605cb24081843f63176ca</td>\n",
       "      <td>psoe</td>\n",
       "      <td>13642070630</td>\n",
       "      <td>@elsoldemerix El Gobierno Andaluz presenta rec...</td>\n",
       "    </tr>\n",
       "    <tr>\n",
       "      <th>9</th>\n",
       "      <td>a34133350b0605cb24081843f63176ca</td>\n",
       "      <td>psoe</td>\n",
       "      <td>13642109030</td>\n",
       "      <td>“@mjocaballero: Maria Dolores de Cospedal dema...</td>\n",
       "    </tr>\n",
       "  </tbody>\n",
       "</table>\n",
       "</div>"
      ],
      "text/plain": [
       "                             cuenta partido    timestamp  \\\n",
       "0  a34133350b0605cb24081843f63176ca    psoe  13639734920   \n",
       "1  a34133350b0605cb24081843f63176ca    psoe  13640610350   \n",
       "2  a34133350b0605cb24081843f63176ca    psoe  13641168040   \n",
       "3  a34133350b0605cb24081843f63176ca    psoe  13641209670   \n",
       "4  a34133350b0605cb24081843f63176ca    psoe  13641526920   \n",
       "5  a34133350b0605cb24081843f63176ca    psoe  13641538760   \n",
       "6  a34133350b0605cb24081843f63176ca    psoe  13641548230   \n",
       "7  a34133350b0605cb24081843f63176ca    psoe  13642018620   \n",
       "8  a34133350b0605cb24081843f63176ca    psoe  13642070630   \n",
       "9  a34133350b0605cb24081843f63176ca    psoe  13642109030   \n",
       "\n",
       "                                               tweet  \n",
       "0  @vesteve3 @manubenas @ccoo_rm @desobediencia_ ...  \n",
       "1  “@kirovast: @Hugo_Moran muy fan de la \"radical...  \n",
       "2  @ALTAS_PRESIONES Nuevos dueños para las renova...  \n",
       "3  @jumanjisolar @solartradex @josea_dolera El di...  \n",
       "4  “@cesarnayu: https://t.co/J4OTXj1x7w … Por fav...  \n",
       "5  “@iAgua: http://t.co/6yMSNcV1UA” (El Gobierno ...  \n",
       "6  \"Cospedal: las crisis ya no afectan a España. ...  \n",
       "7  “@ventonoso: España importa ya energía de Port...  \n",
       "8  @elsoldemerix El Gobierno Andaluz presenta rec...  \n",
       "9  “@mjocaballero: Maria Dolores de Cospedal dema...  "
      ]
     },
     "execution_count": 2,
     "metadata": {},
     "output_type": "execute_result"
    }
   ],
   "source": [
    "df =pd.read_csv('https://raw.githubusercontent.com/EdwinPuertas/MachineLearning-ISCO-A14A/main/data/tweets_politica.csv',sep=\";\")\n",
    "df.head(10)"
   ]
  },
  {
   "cell_type": "markdown",
   "metadata": {},
   "source": [
    "# Descripción del data set"
   ]
  },
  {
   "cell_type": "code",
   "execution_count": 3,
   "metadata": {},
   "outputs": [
    {
     "name": "stdout",
     "output_type": "stream",
     "text": [
      "<class 'pandas.core.frame.DataFrame'>\n",
      "RangeIndex: 130029 entries, 0 to 130028\n",
      "Data columns (total 4 columns):\n",
      " #   Column     Non-Null Count   Dtype \n",
      "---  ------     --------------   ----- \n",
      " 0   cuenta     130029 non-null  object\n",
      " 1   partido    130029 non-null  object\n",
      " 2   timestamp  130029 non-null  int64 \n",
      " 3   tweet      130029 non-null  object\n",
      "dtypes: int64(1), object(3)\n",
      "memory usage: 4.0+ MB\n"
     ]
    }
   ],
   "source": [
    "df.info()"
   ]
  },
  {
   "cell_type": "code",
   "execution_count": 4,
   "metadata": {},
   "outputs": [
    {
     "data": {
      "text/html": [
       "<div>\n",
       "<style scoped>\n",
       "    .dataframe tbody tr th:only-of-type {\n",
       "        vertical-align: middle;\n",
       "    }\n",
       "\n",
       "    .dataframe tbody tr th {\n",
       "        vertical-align: top;\n",
       "    }\n",
       "\n",
       "    .dataframe thead th {\n",
       "        text-align: right;\n",
       "    }\n",
       "</style>\n",
       "<table border=\"1\" class=\"dataframe\">\n",
       "  <thead>\n",
       "    <tr style=\"text-align: right;\">\n",
       "      <th></th>\n",
       "      <th>partido</th>\n",
       "      <th>tweet</th>\n",
       "    </tr>\n",
       "  </thead>\n",
       "  <tbody>\n",
       "    <tr>\n",
       "      <th>0</th>\n",
       "      <td>ciudadanos</td>\n",
       "      <td>23552</td>\n",
       "    </tr>\n",
       "    <tr>\n",
       "      <th>1</th>\n",
       "      <td>podemos</td>\n",
       "      <td>24889</td>\n",
       "    </tr>\n",
       "    <tr>\n",
       "      <th>2</th>\n",
       "      <td>pp</td>\n",
       "      <td>26200</td>\n",
       "    </tr>\n",
       "    <tr>\n",
       "      <th>3</th>\n",
       "      <td>psoe</td>\n",
       "      <td>28882</td>\n",
       "    </tr>\n",
       "    <tr>\n",
       "      <th>4</th>\n",
       "      <td>vox</td>\n",
       "      <td>26506</td>\n",
       "    </tr>\n",
       "  </tbody>\n",
       "</table>\n",
       "</div>"
      ],
      "text/plain": [
       "      partido  tweet\n",
       "0  ciudadanos  23552\n",
       "1     podemos  24889\n",
       "2          pp  26200\n",
       "3        psoe  28882\n",
       "4         vox  26506"
      ]
     },
     "execution_count": 4,
     "metadata": {},
     "output_type": "execute_result"
    }
   ],
   "source": [
    "partido_politico = df.groupby(\"partido\", as_index=False)['tweet'].count()\n",
    "partido_politico.head(10)"
   ]
  },
  {
   "cell_type": "code",
   "execution_count": 5,
   "metadata": {},
   "outputs": [
    {
     "name": "stderr",
     "output_type": "stream",
     "text": [
      "C:\\Users\\Lenovo\\Anaconda3\\lib\\site-packages\\seaborn\\_decorators.py:43: FutureWarning: Pass the following variables as keyword args: x, y. From version 0.12, the only valid positional argument will be `data`, and passing other arguments without an explicit keyword will result in an error or misinterpretation.\n",
      "  FutureWarning\n"
     ]
    },
    {
     "data": {
      "image/png": "[encoded data removed]",
      "text/plain": [
       "<Figure size 1080x360 with 1 Axes>"
      ]
     },
     "metadata": {},
     "output_type": "display_data"
    }
   ],
   "source": [
    "plt.figure(figsize=(15,5))\n",
    "sns.barplot(partido_politico['partido'].values, partido_politico['tweet'].values, alpha=0.8)\n",
    "plt.title('Partido por tweet')\n",
    "plt.ylabel('tweet', fontsize=10)\n",
    "plt.xlabel('partido', fontsize=10)\n",
    "plt.show()"
   ]
  },
  {
   "cell_type": "markdown",
   "metadata": {},
   "source": [
    "# Pregunta e hipotesis\n",
    "\n",
    "Para entrenar el modelo para que sea capaz de clasificar los tweets de manera correcta, primero debemos responder la pregunta ¿Cómo podemos determinar a que partido politico pertenece el usuario de tweet?  \n",
    "Se cree que es posible determinarlo a partir de las palabras que este usa, y ver que tan frecuente menciona o usa palabras relacionadas con cada partido politico, pero esto no es suficiente, pues un usuario puede mencionar a un partido politico y hablar cosas malas de el, por ello tambien se deben estudiar las palabras cercanas."
   ]
  },
  {
   "cell_type": "markdown",
   "metadata": {},
   "source": [
    "# Extracción de caracteristicas"
   ]
  },
  {
   "cell_type": "code",
   "execution_count": 6,
   "metadata": {
    "scrolled": true
   },
   "outputs": [
    {
     "data": {
      "text/html": [
       "<div>\n",
       "<style scoped>\n",
       "    .dataframe tbody tr th:only-of-type {\n",
       "        vertical-align: middle;\n",
       "    }\n",
       "\n",
       "    .dataframe tbody tr th {\n",
       "        vertical-align: top;\n",
       "    }\n",
       "\n",
       "    .dataframe thead th {\n",
       "        text-align: right;\n",
       "    }\n",
       "</style>\n",
       "<table border=\"1\" class=\"dataframe\">\n",
       "  <thead>\n",
       "    <tr style=\"text-align: right;\">\n",
       "      <th></th>\n",
       "      <th>Tweet</th>\n",
       "      <th>Partido</th>\n",
       "    </tr>\n",
       "  </thead>\n",
       "  <tbody>\n",
       "    <tr>\n",
       "      <th>0</th>\n",
       "      <td>@vesteve3 @manubenas @ccoo_rm @desobediencia_ ...</td>\n",
       "      <td>psoe</td>\n",
       "    </tr>\n",
       "    <tr>\n",
       "      <th>1</th>\n",
       "      <td>“@kirovast: @Hugo_Moran muy fan de la \"radical...</td>\n",
       "      <td>psoe</td>\n",
       "    </tr>\n",
       "    <tr>\n",
       "      <th>2</th>\n",
       "      <td>@ALTAS_PRESIONES Nuevos dueños para las renova...</td>\n",
       "      <td>psoe</td>\n",
       "    </tr>\n",
       "    <tr>\n",
       "      <th>3</th>\n",
       "      <td>@jumanjisolar @solartradex @josea_dolera El di...</td>\n",
       "      <td>psoe</td>\n",
       "    </tr>\n",
       "    <tr>\n",
       "      <th>4</th>\n",
       "      <td>“@cesarnayu: https://t.co/J4OTXj1x7w … Por fav...</td>\n",
       "      <td>psoe</td>\n",
       "    </tr>\n",
       "    <tr>\n",
       "      <th>...</th>\n",
       "      <td>...</td>\n",
       "      <td>...</td>\n",
       "    </tr>\n",
       "    <tr>\n",
       "      <th>130024</th>\n",
       "      <td>Qué maravilla, visitar #LaRioja en #vendimia🍇,...</td>\n",
       "      <td>psoe</td>\n",
       "    </tr>\n",
       "    <tr>\n",
       "      <th>130025</th>\n",
       "      <td>“Querido Pablo, nos complace tu voluntad de re...</td>\n",
       "      <td>pp</td>\n",
       "    </tr>\n",
       "    <tr>\n",
       "      <th>130026</th>\n",
       "      <td>Quiero reivindicar la buena política, la de fr...</td>\n",
       "      <td>psoe</td>\n",
       "    </tr>\n",
       "    <tr>\n",
       "      <th>130027</th>\n",
       "      <td>🙋🏻‍♀️El pasado viernes se cumplió el aniversar...</td>\n",
       "      <td>psoe</td>\n",
       "    </tr>\n",
       "    <tr>\n",
       "      <th>130028</th>\n",
       "      <td>“Para nosotros la cuestión no es Europa sí o n...</td>\n",
       "      <td>pp</td>\n",
       "    </tr>\n",
       "  </tbody>\n",
       "</table>\n",
       "<p>130029 rows × 2 columns</p>\n",
       "</div>"
      ],
      "text/plain": [
       "                                                    Tweet Partido\n",
       "0       @vesteve3 @manubenas @ccoo_rm @desobediencia_ ...    psoe\n",
       "1       “@kirovast: @Hugo_Moran muy fan de la \"radical...    psoe\n",
       "2       @ALTAS_PRESIONES Nuevos dueños para las renova...    psoe\n",
       "3       @jumanjisolar @solartradex @josea_dolera El di...    psoe\n",
       "4       “@cesarnayu: https://t.co/J4OTXj1x7w … Por fav...    psoe\n",
       "...                                                   ...     ...\n",
       "130024  Qué maravilla, visitar #LaRioja en #vendimia🍇,...    psoe\n",
       "130025  “Querido Pablo, nos complace tu voluntad de re...      pp\n",
       "130026  Quiero reivindicar la buena política, la de fr...    psoe\n",
       "130027  🙋🏻‍♀️El pasado viernes se cumplió el aniversar...    psoe\n",
       "130028  “Para nosotros la cuestión no es Europa sí o n...      pp\n",
       "\n",
       "[130029 rows x 2 columns]"
      ]
     },
     "execution_count": 6,
     "metadata": {},
     "output_type": "execute_result"
    }
   ],
   "source": [
    "dt={'Tweet':df['tweet'].values,'Partido':df['partido'].values}\n",
    "dts=pd.DataFrame(data=dt)\n",
    "dts"
   ]
  },
  {
   "cell_type": "code",
   "execution_count": 7,
   "metadata": {},
   "outputs": [],
   "source": [
    "dts['Partido']=dts['Partido'].replace('psoe',0)\n",
    "dts['Partido']=dts['Partido'].replace('pp',1)\n",
    "dts['Partido']=dts['Partido'].replace('vox',2)\n",
    "dts['Partido']=dts['Partido'].replace('podemos',3)\n",
    "dts['Partido']=dts['Partido'].replace('ciudadanos',4)"
   ]
  },
  {
   "cell_type": "code",
   "execution_count": 8,
   "metadata": {},
   "outputs": [
    {
     "data": {
      "text/html": [
       "<div>\n",
       "<style scoped>\n",
       "    .dataframe tbody tr th:only-of-type {\n",
       "        vertical-align: middle;\n",
       "    }\n",
       "\n",
       "    .dataframe tbody tr th {\n",
       "        vertical-align: top;\n",
       "    }\n",
       "\n",
       "    .dataframe thead th {\n",
       "        text-align: right;\n",
       "    }\n",
       "</style>\n",
       "<table border=\"1\" class=\"dataframe\">\n",
       "  <thead>\n",
       "    <tr style=\"text-align: right;\">\n",
       "      <th></th>\n",
       "      <th>Tweet</th>\n",
       "      <th>Partido</th>\n",
       "    </tr>\n",
       "  </thead>\n",
       "  <tbody>\n",
       "    <tr>\n",
       "      <th>0</th>\n",
       "      <td>@vesteve3 @manubenas @ccoo_rm @desobediencia_ ...</td>\n",
       "      <td>0</td>\n",
       "    </tr>\n",
       "    <tr>\n",
       "      <th>1</th>\n",
       "      <td>“@kirovast: @Hugo_Moran muy fan de la \"radical...</td>\n",
       "      <td>0</td>\n",
       "    </tr>\n",
       "    <tr>\n",
       "      <th>2</th>\n",
       "      <td>@ALTAS_PRESIONES Nuevos dueños para las renova...</td>\n",
       "      <td>0</td>\n",
       "    </tr>\n",
       "    <tr>\n",
       "      <th>3</th>\n",
       "      <td>@jumanjisolar @solartradex @josea_dolera El di...</td>\n",
       "      <td>0</td>\n",
       "    </tr>\n",
       "    <tr>\n",
       "      <th>4</th>\n",
       "      <td>“@cesarnayu: https://t.co/J4OTXj1x7w … Por fav...</td>\n",
       "      <td>0</td>\n",
       "    </tr>\n",
       "    <tr>\n",
       "      <th>...</th>\n",
       "      <td>...</td>\n",
       "      <td>...</td>\n",
       "    </tr>\n",
       "    <tr>\n",
       "      <th>130024</th>\n",
       "      <td>Qué maravilla, visitar #LaRioja en #vendimia🍇,...</td>\n",
       "      <td>0</td>\n",
       "    </tr>\n",
       "    <tr>\n",
       "      <th>130025</th>\n",
       "      <td>“Querido Pablo, nos complace tu voluntad de re...</td>\n",
       "      <td>1</td>\n",
       "    </tr>\n",
       "    <tr>\n",
       "      <th>130026</th>\n",
       "      <td>Quiero reivindicar la buena política, la de fr...</td>\n",
       "      <td>0</td>\n",
       "    </tr>\n",
       "    <tr>\n",
       "      <th>130027</th>\n",
       "      <td>🙋🏻‍♀️El pasado viernes se cumplió el aniversar...</td>\n",
       "      <td>0</td>\n",
       "    </tr>\n",
       "    <tr>\n",
       "      <th>130028</th>\n",
       "      <td>“Para nosotros la cuestión no es Europa sí o n...</td>\n",
       "      <td>1</td>\n",
       "    </tr>\n",
       "  </tbody>\n",
       "</table>\n",
       "<p>130029 rows × 2 columns</p>\n",
       "</div>"
      ],
      "text/plain": [
       "                                                    Tweet  Partido\n",
       "0       @vesteve3 @manubenas @ccoo_rm @desobediencia_ ...        0\n",
       "1       “@kirovast: @Hugo_Moran muy fan de la \"radical...        0\n",
       "2       @ALTAS_PRESIONES Nuevos dueños para las renova...        0\n",
       "3       @jumanjisolar @solartradex @josea_dolera El di...        0\n",
       "4       “@cesarnayu: https://t.co/J4OTXj1x7w … Por fav...        0\n",
       "...                                                   ...      ...\n",
       "130024  Qué maravilla, visitar #LaRioja en #vendimia🍇,...        0\n",
       "130025  “Querido Pablo, nos complace tu voluntad de re...        1\n",
       "130026  Quiero reivindicar la buena política, la de fr...        0\n",
       "130027  🙋🏻‍♀️El pasado viernes se cumplió el aniversar...        0\n",
       "130028  “Para nosotros la cuestión no es Europa sí o n...        1\n",
       "\n",
       "[130029 rows x 2 columns]"
      ]
     },
     "execution_count": 8,
     "metadata": {},
     "output_type": "execute_result"
    }
   ],
   "source": [
    "dts"
   ]
  },
  {
   "cell_type": "markdown",
   "metadata": {},
   "source": [
    "# Conjunto de entranamiento y prueba"
   ]
  },
  {
   "cell_type": "code",
   "execution_count": 9,
   "metadata": {},
   "outputs": [],
   "source": [
    "x= dts['Tweet'].values\n",
    "y=dts['Partido'].values\n"
   ]
  },
  {
   "cell_type": "code",
   "execution_count": 10,
   "metadata": {},
   "outputs": [],
   "source": [
    "#función que divide\n",
    "def separador(lista1,lista2):\n",
    "    train1=[]\n",
    "    train2=[]\n",
    "    test1=[]\n",
    "    test2=[]\n",
    "    a=0\n",
    "    b=0\n",
    "    c=0\n",
    "    d=0\n",
    "    e=0\n",
    "    k=0\n",
    "    f=round(len(lista1)*0.2)-6\n",
    "    for x in range(len(lista1)):\n",
    "        if k<f and a<f/5 and lista1[x]==0:\n",
    "            test1.append(lista1[x])\n",
    "            test2.append(lista2[x])\n",
    "            a+=1\n",
    "            k+=1\n",
    "        elif k<f and b<f/5 and lista1[x]==1:\n",
    "            test1.append(lista1[x])\n",
    "            test2.append(lista2[x])\n",
    "            b+=1\n",
    "            k+=1\n",
    "        elif k<f and c<f/5 and lista1[x]==2:\n",
    "            test1.append(lista1[x])\n",
    "            test2.append(lista2[x])\n",
    "            c+=1\n",
    "            k+=1\n",
    "        elif k<f and d<f/5 and lista1[x]==3:\n",
    "            test1.append(lista1[x])\n",
    "            test2.append(lista2[x])\n",
    "            d+=1\n",
    "            k+=1\n",
    "        elif k<f and e<f/5 and lista1[x]==4:\n",
    "            test1.append(lista1[x])\n",
    "            test2.append(lista2[x])\n",
    "            e+=1\n",
    "            k+=1\n",
    "        elif k>f or (a>=f/5 and lista1[x]==0) or (b>=f/5 and lista1[x]==1) or (c>=f/5 and lista1[x]==2) or (d>=f/5 and lista1[x]==3) or (e>=f/5 and lista1[x]==4):\n",
    "            train1.append(lista1[x])\n",
    "            train2.append(lista2[x])\n",
    "    return(train1,train2,test1,test2)"
   ]
  },
  {
   "cell_type": "code",
   "execution_count": 11,
   "metadata": {},
   "outputs": [],
   "source": [
    "y_train,x_train,y_test,x_test=separador(y,x)"
   ]
  },
  {
   "cell_type": "code",
   "execution_count": 12,
   "metadata": {},
   "outputs": [
    {
     "data": {
      "text/plain": [
       "(104029, 26000, 104029, 26000)"
      ]
     },
     "execution_count": 12,
     "metadata": {},
     "output_type": "execute_result"
    }
   ],
   "source": [
    "len(x_train),len(x_test),len(y_train),len(y_test)"
   ]
  },
  {
   "cell_type": "code",
   "execution_count": 13,
   "metadata": {
    "scrolled": true
   },
   "outputs": [
    {
     "data": {
      "text/html": [
       "<div>\n",
       "<style scoped>\n",
       "    .dataframe tbody tr th:only-of-type {\n",
       "        vertical-align: middle;\n",
       "    }\n",
       "\n",
       "    .dataframe tbody tr th {\n",
       "        vertical-align: top;\n",
       "    }\n",
       "\n",
       "    .dataframe thead th {\n",
       "        text-align: right;\n",
       "    }\n",
       "</style>\n",
       "<table border=\"1\" class=\"dataframe\">\n",
       "  <thead>\n",
       "    <tr style=\"text-align: right;\">\n",
       "      <th></th>\n",
       "      <th>tweet</th>\n",
       "      <th>partido</th>\n",
       "    </tr>\n",
       "  </thead>\n",
       "  <tbody>\n",
       "    <tr>\n",
       "      <th>0</th>\n",
       "      <td>El Gobierno trabaja en coordinación con las CC...</td>\n",
       "      <td>0</td>\n",
       "    </tr>\n",
       "    <tr>\n",
       "      <th>1</th>\n",
       "      <td>@BaloncestoESP ¡España está con vosotros!Prepa...</td>\n",
       "      <td>0</td>\n",
       "    </tr>\n",
       "    <tr>\n",
       "      <th>2</th>\n",
       "      <td>⚖️ Un Gobierno comprometido con la justicia so...</td>\n",
       "      <td>0</td>\n",
       "    </tr>\n",
       "    <tr>\n",
       "      <th>3</th>\n",
       "      <td>“El que hace trampa es porque no tiene coraje ...</td>\n",
       "      <td>0</td>\n",
       "    </tr>\n",
       "    <tr>\n",
       "      <th>4</th>\n",
       "      <td>Buenos días! Elton John - Rocket Man (Official...</td>\n",
       "      <td>0</td>\n",
       "    </tr>\n",
       "    <tr>\n",
       "      <th>...</th>\n",
       "      <td>...</td>\n",
       "      <td>...</td>\n",
       "    </tr>\n",
       "    <tr>\n",
       "      <th>104024</th>\n",
       "      <td>Qué maravilla, visitar #LaRioja en #vendimia🍇,...</td>\n",
       "      <td>0</td>\n",
       "    </tr>\n",
       "    <tr>\n",
       "      <th>104025</th>\n",
       "      <td>“Querido Pablo, nos complace tu voluntad de re...</td>\n",
       "      <td>1</td>\n",
       "    </tr>\n",
       "    <tr>\n",
       "      <th>104026</th>\n",
       "      <td>Quiero reivindicar la buena política, la de fr...</td>\n",
       "      <td>0</td>\n",
       "    </tr>\n",
       "    <tr>\n",
       "      <th>104027</th>\n",
       "      <td>🙋🏻‍♀️El pasado viernes se cumplió el aniversar...</td>\n",
       "      <td>0</td>\n",
       "    </tr>\n",
       "    <tr>\n",
       "      <th>104028</th>\n",
       "      <td>“Para nosotros la cuestión no es Europa sí o n...</td>\n",
       "      <td>1</td>\n",
       "    </tr>\n",
       "  </tbody>\n",
       "</table>\n",
       "<p>104029 rows × 2 columns</p>\n",
       "</div>"
      ],
      "text/plain": [
       "                                                    tweet  partido\n",
       "0       El Gobierno trabaja en coordinación con las CC...        0\n",
       "1       @BaloncestoESP ¡España está con vosotros!Prepa...        0\n",
       "2       ⚖️ Un Gobierno comprometido con la justicia so...        0\n",
       "3       “El que hace trampa es porque no tiene coraje ...        0\n",
       "4       Buenos días! Elton John - Rocket Man (Official...        0\n",
       "...                                                   ...      ...\n",
       "104024  Qué maravilla, visitar #LaRioja en #vendimia🍇,...        0\n",
       "104025  “Querido Pablo, nos complace tu voluntad de re...        1\n",
       "104026  Quiero reivindicar la buena política, la de fr...        0\n",
       "104027  🙋🏻‍♀️El pasado viernes se cumplió el aniversar...        0\n",
       "104028  “Para nosotros la cuestión no es Europa sí o n...        1\n",
       "\n",
       "[104029 rows x 2 columns]"
      ]
     },
     "execution_count": 13,
     "metadata": {},
     "output_type": "execute_result"
    }
   ],
   "source": [
    "train={'tweet':x_train,'partido':y_train}\n",
    "trainpd=pd.DataFrame(data=train)\n",
    "trainpd"
   ]
  },
  {
   "cell_type": "code",
   "execution_count": 14,
   "metadata": {},
   "outputs": [
    {
     "data": {
      "text/html": [
       "<div>\n",
       "<style scoped>\n",
       "    .dataframe tbody tr th:only-of-type {\n",
       "        vertical-align: middle;\n",
       "    }\n",
       "\n",
       "    .dataframe tbody tr th {\n",
       "        vertical-align: top;\n",
       "    }\n",
       "\n",
       "    .dataframe thead th {\n",
       "        text-align: right;\n",
       "    }\n",
       "</style>\n",
       "<table border=\"1\" class=\"dataframe\">\n",
       "  <thead>\n",
       "    <tr style=\"text-align: right;\">\n",
       "      <th></th>\n",
       "      <th>tweet</th>\n",
       "      <th>partido</th>\n",
       "    </tr>\n",
       "  </thead>\n",
       "  <tbody>\n",
       "    <tr>\n",
       "      <th>0</th>\n",
       "      <td>@vesteve3 @manubenas @ccoo_rm @desobediencia_ ...</td>\n",
       "      <td>0</td>\n",
       "    </tr>\n",
       "    <tr>\n",
       "      <th>1</th>\n",
       "      <td>“@kirovast: @Hugo_Moran muy fan de la \"radical...</td>\n",
       "      <td>0</td>\n",
       "    </tr>\n",
       "    <tr>\n",
       "      <th>2</th>\n",
       "      <td>@ALTAS_PRESIONES Nuevos dueños para las renova...</td>\n",
       "      <td>0</td>\n",
       "    </tr>\n",
       "    <tr>\n",
       "      <th>3</th>\n",
       "      <td>@jumanjisolar @solartradex @josea_dolera El di...</td>\n",
       "      <td>0</td>\n",
       "    </tr>\n",
       "    <tr>\n",
       "      <th>4</th>\n",
       "      <td>“@cesarnayu: https://t.co/J4OTXj1x7w … Por fav...</td>\n",
       "      <td>0</td>\n",
       "    </tr>\n",
       "    <tr>\n",
       "      <th>...</th>\n",
       "      <td>...</td>\n",
       "      <td>...</td>\n",
       "    </tr>\n",
       "    <tr>\n",
       "      <th>25995</th>\n",
       "      <td>😂😂 Debe ser duro para la izquierda encontrarse...</td>\n",
       "      <td>2</td>\n",
       "    </tr>\n",
       "    <tr>\n",
       "      <th>25996</th>\n",
       "      <td>“Lo que de verdad une a la izquierda y al naci...</td>\n",
       "      <td>2</td>\n",
       "    </tr>\n",
       "    <tr>\n",
       "      <th>25997</th>\n",
       "      <td>Llama centro-izquierda a ERC y Podemos....y ul...</td>\n",
       "      <td>2</td>\n",
       "    </tr>\n",
       "    <tr>\n",
       "      <th>25998</th>\n",
       "      <td>El Parlamento Europeo presiona a #Cuba para lo...</td>\n",
       "      <td>2</td>\n",
       "    </tr>\n",
       "    <tr>\n",
       "      <th>25999</th>\n",
       "      <td>En el Consejo de Cooperación al Desarrollo del...</td>\n",
       "      <td>2</td>\n",
       "    </tr>\n",
       "  </tbody>\n",
       "</table>\n",
       "<p>26000 rows × 2 columns</p>\n",
       "</div>"
      ],
      "text/plain": [
       "                                                   tweet  partido\n",
       "0      @vesteve3 @manubenas @ccoo_rm @desobediencia_ ...        0\n",
       "1      “@kirovast: @Hugo_Moran muy fan de la \"radical...        0\n",
       "2      @ALTAS_PRESIONES Nuevos dueños para las renova...        0\n",
       "3      @jumanjisolar @solartradex @josea_dolera El di...        0\n",
       "4      “@cesarnayu: https://t.co/J4OTXj1x7w … Por fav...        0\n",
       "...                                                  ...      ...\n",
       "25995  😂😂 Debe ser duro para la izquierda encontrarse...        2\n",
       "25996  “Lo que de verdad une a la izquierda y al naci...        2\n",
       "25997  Llama centro-izquierda a ERC y Podemos....y ul...        2\n",
       "25998  El Parlamento Europeo presiona a #Cuba para lo...        2\n",
       "25999  En el Consejo de Cooperación al Desarrollo del...        2\n",
       "\n",
       "[26000 rows x 2 columns]"
      ]
     },
     "execution_count": 14,
     "metadata": {},
     "output_type": "execute_result"
    }
   ],
   "source": [
    "test={'tweet':x_test,'partido':y_test}\n",
    "testpd=pd.DataFrame(data=test)\n",
    "testpd"
   ]
  },
  {
   "cell_type": "code",
   "execution_count": 15,
   "metadata": {},
   "outputs": [
    {
     "name": "stdout",
     "output_type": "stream",
     "text": [
      "**Sample test: [(0, 5200), (1, 5200), (2, 5200), (3, 5200), (4, 5200)]\n"
     ]
    }
   ],
   "source": [
    "print('**Sample test:', sorted(Counter(y_test).items()))"
   ]
  },
  {
   "cell_type": "code",
   "execution_count": 16,
   "metadata": {},
   "outputs": [
    {
     "name": "stdout",
     "output_type": "stream",
     "text": [
      "**Sample train: [(0, 23682), (1, 21000), (2, 21306), (3, 19689), (4, 18352)]\n"
     ]
    }
   ],
   "source": [
    "print('**Sample train:', sorted(Counter(y_train).items()))"
   ]
  },
  {
   "cell_type": "code",
   "execution_count": 17,
   "metadata": {},
   "outputs": [],
   "source": [
    "bow = CountVectorizer(ngram_range=(1, 1))\n",
    "bong = CountVectorizer(analyzer='word', ngram_range=(2, 2))"
   ]
  },
  {
   "cell_type": "markdown",
   "metadata": {},
   "source": [
    "# Union"
   ]
  },
  {
   "cell_type": "code",
   "execution_count": 18,
   "metadata": {},
   "outputs": [],
   "source": [
    "Union = FeatureUnion([\n",
    "    ('bow_vector', bow),\n",
    "    ('bong_vector', bong)\n",
    "])"
   ]
  },
  {
   "cell_type": "code",
   "execution_count": 19,
   "metadata": {},
   "outputs": [
    {
     "data": {
      "text/plain": [
       "FeatureUnion(transformer_list=[('bow_vector', CountVectorizer()),\n",
       "                               ('bong_vector',\n",
       "                                CountVectorizer(ngram_range=(2, 2)))])"
      ]
     },
     "execution_count": 19,
     "metadata": {},
     "output_type": "execute_result"
    }
   ],
   "source": [
    "Union.fit(x_train)"
   ]
  },
  {
   "cell_type": "code",
   "execution_count": 20,
   "metadata": {},
   "outputs": [],
   "source": [
    "x_train = Union.transform(x_train)"
   ]
  },
  {
   "cell_type": "code",
   "execution_count": 21,
   "metadata": {},
   "outputs": [],
   "source": [
    "x_test = Union.transform(x_test)"
   ]
  },
  {
   "cell_type": "code",
   "execution_count": 22,
   "metadata": {},
   "outputs": [],
   "source": [
    "ros = RandomOverSampler(random_state=0)\n",
    "x_train, y_train = ros.fit_resample(x_train, y_train)"
   ]
  },
  {
   "cell_type": "code",
   "execution_count": 23,
   "metadata": {},
   "outputs": [
    {
     "name": "stdout",
     "output_type": "stream",
     "text": [
      "**OverSample train: [(0, 23682), (1, 23682), (2, 23682), (3, 23682), (4, 23682)]\n"
     ]
    }
   ],
   "source": [
    "print('**OverSample train:', sorted(Counter(y_train).items()))"
   ]
  },
  {
   "cell_type": "markdown",
   "metadata": {},
   "source": [
    "# Entrenamiento con Softmax_Function"
   ]
  },
  {
   "cell_type": "code",
   "execution_count": 24,
   "metadata": {},
   "outputs": [
    {
     "name": "stderr",
     "output_type": "stream",
     "text": [
      "C:\\Users\\Lenovo\\Anaconda3\\lib\\site-packages\\sklearn\\linear_model\\_logistic.py:765: ConvergenceWarning: lbfgs failed to converge (status=1):\n",
      "STOP: TOTAL NO. of ITERATIONS REACHED LIMIT.\n",
      "\n",
      "Increase the number of iterations (max_iter) or scale the data as shown in:\n",
      "    https://scikit-learn.org/stable/modules/preprocessing.html\n",
      "Please also refer to the documentation for alternative solver options:\n",
      "    https://scikit-learn.org/stable/modules/linear_model.html#logistic-regression\n",
      "  extra_warning_msg=_LOGISTIC_SOLVER_CONVERGENCE_MSG)\n"
     ]
    },
    {
     "data": {
      "text/plain": [
       "LogisticRegression(C=10, multi_class='multinomial')"
      ]
     },
     "execution_count": 24,
     "metadata": {},
     "output_type": "execute_result"
    }
   ],
   "source": [
    "sreg=linear_model.LogisticRegression(multi_class=\"multinomial\",solver=\"lbfgs\",C=10)\n",
    "sreg.fit(x_train,y_train)"
   ]
  },
  {
   "cell_type": "code",
   "execution_count": 25,
   "metadata": {},
   "outputs": [],
   "source": [
    "y_prob=sreg.predict(x_test)"
   ]
  },
  {
   "cell_type": "markdown",
   "metadata": {},
   "source": [
    "# Metricas"
   ]
  },
  {
   "cell_type": "code",
   "execution_count": 26,
   "metadata": {},
   "outputs": [],
   "source": [
    "matriz=confusion_matrix(y_test,y_prob)\n"
   ]
  },
  {
   "cell_type": "code",
   "execution_count": 27,
   "metadata": {},
   "outputs": [
    {
     "name": "stdout",
     "output_type": "stream",
     "text": [
      "\t\t\tMatriz de confusion\n",
      "\n",
      "             0                1               2            3              4\n",
      "\n",
      "0           3754             323            366            444            313\n",
      "\n",
      "1           441             3694            388            152            525\n",
      "\n",
      "2           370             335            3870            236            389\n",
      "\n",
      "3           546             280            431            3583            360\n",
      "\n",
      "4           369             534            723            228            3346\n"
     ]
    }
   ],
   "source": [
    "print(\"\\t\\t\\tMatriz de confusion\")\n",
    "print(\"\\n             0                1               2            3              4\")\n",
    "print(\"\\n0          \",matriz[0][0],\"           \",matriz[0][1],\"          \",matriz[0][2],\"          \",matriz[0][3],\"          \",matriz[0][4])\n",
    "print(\"\\n1          \",matriz[1][0],\"           \",matriz[1][1],\"          \",matriz[1][2],\"          \",matriz[1][3],\"          \",matriz[1][4])\n",
    "print(\"\\n2          \",matriz[2][0],\"           \",matriz[2][1],\"          \",matriz[2][2],\"          \",matriz[2][3],\"          \",matriz[2][4])\n",
    "print(\"\\n3          \",matriz[3][0],\"           \",matriz[3][1],\"          \",matriz[3][2],\"          \",matriz[3][3],\"          \",matriz[3][4])\n",
    "print(\"\\n4          \",matriz[4][0],\"           \",matriz[4][1],\"          \",matriz[4][2],\"          \",matriz[4][3],\"          \",matriz[4][4])"
   ]
  },
  {
   "cell_type": "code",
   "execution_count": 28,
   "metadata": {},
   "outputs": [
    {
     "name": "stdout",
     "output_type": "stream",
     "text": [
      "Accuracy softmax:  0.7018076923076924\n",
      "Recall_score softmas:  0.7039733682943525\n",
      "Precision_score softmax:  0.703828927514793\n",
      "Puntuación F1 softmax:  0.7018076923076924\n"
     ]
    }
   ],
   "source": [
    "print('Accuracy softmax: ', accuracy_score(y_prob,y_test))\n",
    "print('Recall_score softmas: ', recall_score(y_prob,y_test,average=\"macro\"))\n",
    "print('Precision_score softmax: ', precision_score(y_prob,y_test,average=\"weighted\"))\n",
    "print('Puntuación F1 softmax: ', f1_score(y_prob,y_test,average=\"micro\"))"
   ]
  },
  {
   "cell_type": "markdown",
   "metadata": {},
   "source": [
    "# SVM"
   ]
  },
  {
   "cell_type": "code",
   "execution_count": 29,
   "metadata": {},
   "outputs": [],
   "source": [
    "ys_train,xs_train,ys_test,xs_test=separador(y,x)"
   ]
  },
  {
   "cell_type": "code",
   "execution_count": 30,
   "metadata": {},
   "outputs": [],
   "source": [
    "xs_train = Union.transform(xs_train)\n",
    "xs_test = Union.transform(xs_test)"
   ]
  },
  {
   "cell_type": "code",
   "execution_count": 31,
   "metadata": {},
   "outputs": [],
   "source": [
    "ros = RandomOverSampler(random_state=0)\n",
    "xs_train, ys_train = ros.fit_resample(xs_train, ys_train)"
   ]
  },
  {
   "cell_type": "code",
   "execution_count": 32,
   "metadata": {},
   "outputs": [],
   "source": [
    "from sklearn import preprocessing \n",
    "xs_train = preprocessing.scale(xs_train,with_mean=False) \n",
    "xs_test = preprocessing.scale(xs_test,with_mean=False)"
   ]
  },
  {
   "cell_type": "code",
   "execution_count": null,
   "metadata": {},
   "outputs": [],
   "source": [
    "xs_train.toarray()"
   ]
  },
  {
   "cell_type": "code",
   "execution_count": 33,
   "metadata": {},
   "outputs": [
    {
     "name": "stderr",
     "output_type": "stream",
     "text": [
      "C:\\Users\\Lenovo\\Anaconda3\\lib\\site-packages\\sklearn\\svm\\_base.py:258: ConvergenceWarning: Solver terminated early (max_iter=10).  Consider pre-processing your data with StandardScaler or MinMaxScaler.\n",
      "  % self.max_iter, ConvergenceWarning)\n"
     ]
    }
   ],
   "source": [
    "clf = svm.SVC(kernel='poly', degree=3, C=1,max_iter=10,gamma='auto').fit(xs_train, ys_train)"
   ]
  },
  {
   "cell_type": "code",
   "execution_count": 35,
   "metadata": {},
   "outputs": [],
   "source": [
    "ys_prob = clf.predict(xs_test)"
   ]
  },
  {
   "cell_type": "code",
   "execution_count": 38,
   "metadata": {},
   "outputs": [],
   "source": [
    "matriz=confusion_matrix(ys_test,ys_prob)"
   ]
  },
  {
   "cell_type": "code",
   "execution_count": 39,
   "metadata": {},
   "outputs": [
    {
     "name": "stdout",
     "output_type": "stream",
     "text": [
      "\t\t\tMatriz de confusion\n",
      "\n",
      "             0                1               2            3              4\n",
      "\n",
      "0           0             0            0            0            5200\n",
      "\n",
      "1           0             0            0            0            5200\n",
      "\n",
      "2           0             0            0            0            5200\n",
      "\n",
      "3           0             0            0            0            5200\n",
      "\n",
      "4           0             0            0            0            5200\n"
     ]
    }
   ],
   "source": [
    "print(\"\\t\\t\\tMatriz de confusion\")\n",
    "print(\"\\n             0                1               2            3              4\")\n",
    "print(\"\\n0          \",matriz[0][0],\"           \",matriz[0][1],\"          \",matriz[0][2],\"          \",matriz[0][3],\"          \",matriz[0][4])\n",
    "print(\"\\n1          \",matriz[1][0],\"           \",matriz[1][1],\"          \",matriz[1][2],\"          \",matriz[1][3],\"          \",matriz[1][4])\n",
    "print(\"\\n2          \",matriz[2][0],\"           \",matriz[2][1],\"          \",matriz[2][2],\"          \",matriz[2][3],\"          \",matriz[2][4])\n",
    "print(\"\\n3          \",matriz[3][0],\"           \",matriz[3][1],\"          \",matriz[3][2],\"          \",matriz[3][3],\"          \",matriz[3][4])\n",
    "print(\"\\n4          \",matriz[4][0],\"           \",matriz[4][1],\"          \",matriz[4][2],\"          \",matriz[4][3],\"          \",matriz[4][4])"
   ]
  },
  {
   "cell_type": "code",
   "execution_count": 40,
   "metadata": {},
   "outputs": [
    {
     "name": "stdout",
     "output_type": "stream",
     "text": [
      "Accuracy softmax:  0.2\n",
      "Recall_score softmas:  0.04\n",
      "Precision_score softmax:  1.0\n",
      "Puntuación F1 softmax:  0.20000000000000004\n"
     ]
    },
    {
     "name": "stderr",
     "output_type": "stream",
     "text": [
      "C:\\Users\\Lenovo\\Anaconda3\\lib\\site-packages\\sklearn\\metrics\\_classification.py:1248: UndefinedMetricWarning: Recall is ill-defined and being set to 0.0 in labels with no true samples. Use `zero_division` parameter to control this behavior.\n",
      "  _warn_prf(average, modifier, msg_start, len(result))\n"
     ]
    }
   ],
   "source": [
    "print('Accuracy softmax: ', accuracy_score(ys_prob,ys_test))\n",
    "print('Recall_score softmas: ', recall_score(ys_prob,ys_test,average=\"macro\"))\n",
    "print('Precision_score softmax: ', precision_score(ys_prob,ys_test,average=\"weighted\"))\n",
    "print('Puntuación F1 softmax: ', f1_score(ys_prob,ys_test,average=\"micro\"))"
   ]
  },
  {
   "cell_type": "markdown",
   "metadata": {},
   "source": [
    "# Comparación de resultados\n",
    "\n",
    "Podemos observar por las metricas empleadas, que el modelo softmax es mucho más efectivo que el support vector machine, esto se debe a que svm tiene problemas cuando los datos empleados son muy grandes."
   ]
  }
 ],
 "metadata": {
  "kernelspec": {
   "display_name": "Python 3",
   "language": "python",
   "name": "python3"
  },
  "language_info": {
   "codemirror_mode": {
    "name": "ipython",
    "version": 3
   },
   "file_extension": ".py",
   "mimetype": "text/x-python",
   "name": "python",
   "nbconvert_exporter": "python",
   "pygments_lexer": "ipython3",
   "version": "3.6.4"
  }
 },
 "nbformat": 4,
 "nbformat_minor": 2
}
